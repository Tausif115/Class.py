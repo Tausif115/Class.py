{
 "cells": [
  {
   "cell_type": "code",
   "execution_count": 19,
   "id": "c80ba2fa-c8bd-4955-a606-ab7cf4bce9f8",
   "metadata": {},
   "outputs": [
    {
     "name": "stdout",
     "output_type": "stream",
     "text": [
      "Config is:  i5 8\n",
      "Config is:  r5 16\n"
     ]
    }
   ],
   "source": [
    "class Computer:\n",
    "    def __init__(self, cpu, ram):\n",
    "        self.cpu = cpu\n",
    "        self.ram = ram\n",
    "    \n",
    "    def config(self):\n",
    "        print(\"Config is: \", self.cpu, self.ram)\n",
    "\n",
    "com1 = Computer('i5', 8)\n",
    "com2 = Computer('r5', 16)\n",
    "\n",
    "com1.config()\n",
    "com2.config()"
   ]
  },
  {
   "cell_type": "code",
   "execution_count": 46,
   "id": "1e0e7a64-8c90-4da1-bf90-fba95ab77db7",
   "metadata": {},
   "outputs": [
    {
     "name": "stdout",
     "output_type": "stream",
     "text": [
      "Multiplication: 252\n",
      "Sum: 14\n",
      "Division: 0.25\n"
     ]
    }
   ],
   "source": [
    "class Math:\n",
    "    def __init__(self, num1, num2, num3):\n",
    "        self.num1 = num1\n",
    "        self.num2 = num2\n",
    "        self.num3 = num3\n",
    "    \n",
    "    def multiple(self):\n",
    "        print(f\"Multiplication: {self.num1 * self.num2 * self.num3}\")\n",
    "\n",
    "    def sum(self):\n",
    "        print(f\"Sum: {self.num1 + self.num2 + self.num3}\")\n",
    "\n",
    "    def minus(self):\n",
    "        print(f\"Minus: {self.num1 - self.num2 + self.num3}\")\n",
    "\n",
    "    def division(self):\n",
    "        print(f\"Division: {self.num1 / (self.num2 * self.num3)}\")\n",
    "\n",
    "m1 = Math(7, 6, 6)\n",
    "m2 = Math(5, 4, 5)\n",
    "\n",
    "m1.multiple()\n",
    "m2.sum()\n",
    "m2.division()\n",
    "\n",
    "        "
   ]
  },
  {
   "cell_type": "code",
   "execution_count": 47,
   "id": "28ffffed-2619-424d-8f42-ebc8cf10373e",
   "metadata": {},
   "outputs": [
    {
     "name": "stdin",
     "output_type": "stream",
     "text": [
      "Calculate(1) or exit(0):  3\n",
      "Calculate(1) or exit(0):  6\n",
      "Calculate(1) or exit(0):  7\n",
      "Calculate(1) or exit(0):  1\n",
      "Enter a:  3\n",
      "Enter b:  4\n",
      "Enter c:  5\n"
     ]
    },
    {
     "name": "stdout",
     "output_type": "stream",
     "text": [
      "roots are: -0.6666666666666666+1.1055415967851332i, -0.6666666666666666-1.1055415967851332i\n"
     ]
    },
    {
     "name": "stdin",
     "output_type": "stream",
     "text": [
      "Calculate(1) or exit(0):  1\n",
      "Enter a:  4\n",
      "Enter b:  5\n",
      "Enter c:  6\n"
     ]
    },
    {
     "name": "stdout",
     "output_type": "stream",
     "text": [
      "roots are: -0.625+1.0532687216470449i, -0.625-1.0532687216470449i\n"
     ]
    },
    {
     "name": "stdin",
     "output_type": "stream",
     "text": [
      "Calculate(1) or exit(0):  0\n"
     ]
    }
   ],
   "source": [
    "import math\n",
    "\n",
    "class MyComplexNumber:\n",
    "    def __init__(self, a, b, c):\n",
    "        self.a = a\n",
    "        self.b = b\n",
    "        self.c = c\n",
    "\n",
    "    def complex(self):\n",
    "        d = (self.b**2) - 4 * self.a * self.c\n",
    "        if d == 0:\n",
    "            root = -self.b / (2 * self.a)\n",
    "            print(f\"root: {root}\")\n",
    "        elif d > 0:\n",
    "            root1 = (-self.b / (2 * self.a)) + (math.sqrt(d) / (2 * self.a))\n",
    "            root2 = (-self.b / (2 * self.a)) - (math.sqrt(d) / (2 * self.a))\n",
    "            print(f\"roots are: {root1}, {root2}\")\n",
    "        else:\n",
    "            realpart = (-self.b / (2 * self.a))\n",
    "            imagpart = (math.sqrt(abs(d)) / (2 * self.a))\n",
    "            print(f\"roots are: {realpart}+{imagpart}i, {realpart}-{imagpart}i\")\n",
    "\n",
    "while True:\n",
    "    exit_check = int(input(\"Calculate(1) or exit(0): \"))\n",
    "    if exit_check == 0:\n",
    "        break\n",
    "    elif exit_check == 1:\n",
    "        a = int(input(\"Enter a: \"))\n",
    "        b = int(input(\"Enter b: \"))\n",
    "        c = int(input(\"Enter c: \"))\n",
    "        num1 = MyComplexNumber(a, b, c)\n",
    "        num1.complex()\n",
    "\n",
    "\n"
   ]
  }
 ],
 "metadata": {
  "kernelspec": {
   "display_name": "Python [conda env:base] *",
   "language": "python",
   "name": "conda-base-py"
  },
  "language_info": {
   "codemirror_mode": {
    "name": "ipython",
    "version": 3
   },
   "file_extension": ".py",
   "mimetype": "text/x-python",
   "name": "python",
   "nbconvert_exporter": "python",
   "pygments_lexer": "ipython3",
   "version": "3.12.7"
  }
 },
 "nbformat": 4,
 "nbformat_minor": 5
}
